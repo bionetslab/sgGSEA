{
 "cells": [
  {
   "cell_type": "code",
   "execution_count": null,
   "outputs": [],
   "source": [
    "import sgGSEA as sg\n",
    "import seaborn as sns"
   ],
   "metadata": {
    "collapsed": false,
    "pycharm": {
     "name": "#%%\n"
    }
   }
  },
  {
   "cell_type": "code",
   "execution_count": null,
   "outputs": [],
   "source": [
    "# Show names of all queryable gene set libraries.\n",
    "sg.show_library_names()"
   ],
   "metadata": {
    "collapsed": false,
    "pycharm": {
     "name": "#%%\n"
    }
   }
  },
  {
   "cell_type": "code",
   "execution_count": null,
   "outputs": [],
   "source": [
    "# Download a gene set library selected by its name.\n",
    "go_cc_2023 = sg.get_library('GO_Cellular_Component_2023')"
   ],
   "metadata": {
    "collapsed": false,
    "pycharm": {
     "name": "#%%\n"
    }
   }
  },
  {
   "cell_type": "code",
   "execution_count": null,
   "outputs": [],
   "source": [
    "# Show names of all gene sets in downloaded gene set library.\n",
    "sg.show_gene_set_names(go_cc_2023)"
   ],
   "metadata": {
    "collapsed": false,
    "pycharm": {
     "name": "#%%\n"
    }
   }
  },
  {
   "cell_type": "code",
   "execution_count": null,
   "outputs": [],
   "source": [
    "# Retrieve a gene set from the library selected by its name.\n",
    "target_gene_set = sg.get_gene_set(go_cc_2023, 'SUMO Ligase Complex (GO:0106068)')"
   ],
   "metadata": {
    "collapsed": false,
    "pycharm": {
     "name": "#%%\n"
    }
   }
  },
  {
   "cell_type": "code",
   "execution_count": null,
   "outputs": [],
   "source": [
    "# Rank all genes in the network based on their centralities w.r.t. the selected target gene set. \n",
    "# If you want to rank only a selected subset, provide a query gene set.\n",
    "# Note that only those genes of the query appear in the results which correspond to nodes in the network.\n",
    "results_pagerank = sg.rank_genes('networks/BioGRID.txt', target_gene_set, 'pagerank', query_gene_set=None)"
   ],
   "metadata": {
    "collapsed": false,
    "pycharm": {
     "name": "#%%\n"
    }
   }
  },
  {
   "cell_type": "code",
   "execution_count": null,
   "outputs": [],
   "source": [
    "# Show the results for the pagerank centrality.\n",
    "results_pagerank"
   ],
   "metadata": {
    "collapsed": false,
    "pycharm": {
     "name": "#%%\n"
    }
   }
  },
  {
   "cell_type": "code",
   "execution_count": null,
   "outputs": [],
   "source": [
    "# Same command but this time using betweenness centrality.\n",
    "results_betweenness = sg.rank_genes('networks/BioGRID.txt', target_gene_set, 'betweenness', query_gene_set=None)"
   ],
   "metadata": {
    "collapsed": false,
    "pycharm": {
     "name": "#%%\n"
    }
   }
  },
  {
   "cell_type": "code",
   "execution_count": null,
   "outputs": [],
   "source": [
    "# Show the results for the betweenness centrality.\n",
    "results_betweenness"
   ],
   "metadata": {
    "collapsed": false,
    "pycharm": {
     "name": "#%%\n"
    }
   }
  },
  {
   "cell_type": "code",
   "execution_count": null,
   "outputs": [],
   "source": [
    "# Positive correlation between degree and pagerank centrality.\n",
    "sns.scatterplot(data=results_pagerank, x='degree', y='pagerank')"
   ],
   "metadata": {
    "collapsed": false,
    "pycharm": {
     "name": "#%%\n"
    }
   }
  },
  {
   "cell_type": "code",
   "execution_count": null,
   "outputs": [],
   "source": [
    "Apparently no correlation for P-value\n",
    "sns.scatterplot(data=results_pagerank,x='degree', y='p_value')"
   ],
   "metadata": {
    "collapsed": false,
    "pycharm": {
     "name": "#%%\n"
    }
   }
  },
  {
   "cell_type": "code",
   "execution_count": null,
   "outputs": [],
   "source": [
    "# Linear trend between degree and pagerank centrality.\n",
    "sns.scatterplot(data=results_betweenness, x='degree', y='betweenness')"
   ],
   "metadata": {
    "collapsed": false,
    "pycharm": {
     "name": "#%%\n"
    }
   }
  },
  {
   "cell_type": "code",
   "execution_count": null,
   "outputs": [],
   "source": [
    "# Apparently no correlation for P-value.\n",
    "sns.scatterplot(data=results_betweenness, x='degree', y='p_value')"
   ],
   "metadata": {
    "collapsed": false,
    "pycharm": {
     "name": "#%%\n"
    }
   }
  }
 ],
 "metadata": {
  "kernelspec": {
   "display_name": "sggsea",
   "language": "python",
   "name": "sggsea"
  },
  "language_info": {
   "codemirror_mode": {
    "name": "ipython",
    "version": 3
   },
   "file_extension": ".py",
   "mimetype": "text/x-python",
   "name": "python",
   "nbconvert_exporter": "python",
   "pygments_lexer": "ipython3",
   "version": "3.11.6"
  }
 },
 "nbformat": 4,
 "nbformat_minor": 4
}