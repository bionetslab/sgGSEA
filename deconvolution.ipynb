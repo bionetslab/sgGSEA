{
 "cells": [
  {
   "cell_type": "code",
   "execution_count": 1,
   "id": "e9a210fe-2d07-44a3-9e6b-b3ef7c3e50c3",
   "metadata": {},
   "outputs": [],
   "source": [
    "%load_ext autoreload\n",
    "%autoreload 2\n",
    "import numpy as np\n",
    "import pandas as pd\n",
    "import matplotlib.pyplot as plt\n",
    "import os"
   ]
  },
  {
   "cell_type": "code",
   "execution_count": 40,
   "id": "60cf7db0-c71f-4710-83ac-895af03313ab",
   "metadata": {},
   "outputs": [],
   "source": [
    "if 0:\n",
    "    base_path = \"../data/pd/\"\n",
    "    for file in os.listdir(base_path):\n",
    "        data = os.path.join(base_path, file)\n",
    "        with open(data, 'r') as f:\n",
    "            lines = f.readlines()\n",
    "            \n",
    "        cols = lines[0].split(\"\\t\")\n",
    "        cols[-1] = cols[-1].split(\"\\n\")[0]\n",
    "        split_lines = list()\n",
    "        \n",
    "        for i, l in enumerate(lines[1:]):\n",
    "            spl = l.split(\"\\t\")\n",
    "            spl[-1] = spl[-1].split(\"\\n\")[0]\n",
    "            split_lines.append(spl)\n",
    "        df = pd.DataFrame(split_lines, columns=cols)\n",
    "        df[\"padj\"] = df[\"padj\"].astype(float)\n",
    "        df = df.drop_duplicates(subset=['gene_name'], keep='first') #TODO!!! Duplicate gene names...\n",
    "        df = df.set_index(\"gene_name\")\n",
    "        \n",
    "        fpkms = [c for c in df.columns if \"fpkm\" in c]\n",
    "        expression_df = df[fpkms]\n",
    "        expression_df.to_csv(\"./data/for_R_xcell-Copy1/processed_\" + file.split(\".\")[0] + \".csv\")"
   ]
  },
  {
   "cell_type": "code",
   "execution_count": null,
   "id": "2469c87d-06c2-4f68-b7ff-10d3126e7205",
   "metadata": {},
   "outputs": [],
   "source": []
  },
  {
   "cell_type": "code",
   "execution_count": null,
   "id": "e43aa5d2-157e-4e2d-8879-46cae6f04533",
   "metadata": {},
   "outputs": [],
   "source": []
  }
 ],
 "metadata": {
  "kernelspec": {
   "display_name": "Python 3 (ipykernel)",
   "language": "python",
   "name": "python3"
  },
  "language_info": {
   "codemirror_mode": {
    "name": "ipython",
    "version": 3
   },
   "file_extension": ".py",
   "mimetype": "text/x-python",
   "name": "python",
   "nbconvert_exporter": "python",
   "pygments_lexer": "ipython3",
   "version": "3.9.18"
  }
 },
 "nbformat": 4,
 "nbformat_minor": 5
}
